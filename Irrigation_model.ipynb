{
  "nbformat": 4,
  "nbformat_minor": 0,
  "metadata": {
    "colab": {
      "name": "Irrigation model.ipynb",
      "provenance": [],
      "collapsed_sections": []
    },
    "kernelspec": {
      "name": "python3",
      "display_name": "Python 3"
    },
    "language_info": {
      "name": "python"
    }
  },
  "cells": [
    {
      "cell_type": "code",
      "execution_count": null,
      "metadata": {
        "colab": {
          "base_uri": "https://localhost:8080/",
          "height": 36
        },
        "id": "2O_xytyRiery",
        "outputId": "3afeb188-0e58-4535-bc9e-8228f09866e2"
      },
      "outputs": [
        {
          "output_type": "execute_result",
          "data": {
            "text/plain": [
              "'\\nMoisture:\\n\\nSandy soil - m <=40%/\\nClay soil - m <= 35%\\n\\n'"
            ],
            "application/vnd.google.colaboratory.intrinsic+json": {
              "type": "string"
            }
          },
          "metadata": {},
          "execution_count": 22
        }
      ],
      "source": [
        "'''\n",
        "Moisture:\n",
        "\n",
        "Sandy soil - m <=40%/\n",
        "Clay soil - m <= 35%\n",
        "\n",
        "'''"
      ]
    },
    {
      "cell_type": "code",
      "source": [
        "import numpy as np\n",
        "import pandas as pd"
      ],
      "metadata": {
        "id": "kUP5-b3rjIrb"
      },
      "execution_count": null,
      "outputs": []
    },
    {
      "cell_type": "code",
      "source": [
        "df=pd.read_excel('/content/result.xlsx')"
      ],
      "metadata": {
        "id": "LURhiGgQjLpI"
      },
      "execution_count": null,
      "outputs": []
    },
    {
      "cell_type": "code",
      "source": [
        "df.head()"
      ],
      "metadata": {
        "colab": {
          "base_uri": "https://localhost:8080/",
          "height": 206
        },
        "id": "OjouxatVjZw9",
        "outputId": "397b21c1-84e7-4cfd-9057-c40d0bf3a7b5"
      },
      "execution_count": null,
      "outputs": [
        {
          "output_type": "execute_result",
          "data": {
            "text/plain": [
              "   S No   pH  Temperature  Moisture          Time_log Gadget Id Location  \\\n",
              "0   1.0  7.0         27.1      48.0  18-01-2022 10:26  NITSL001   Farm 1   \n",
              "1   2.0  7.0         27.5      47.7  18-01-2022 10:26  NITSL001   Farm 1   \n",
              "2   3.0  7.0         27.5      47.7  18-01-2022 10:26  NITSL001   Farm 1   \n",
              "3   4.0  7.0         27.5      47.6  18-01-2022 10:26  NITSL001   Farm 1   \n",
              "4   5.0  7.0         27.5      47.7  18-01-2022 10:26  NITSL001   Farm 1   \n",
              "\n",
              "          target  \n",
              "0  no_irrigation  \n",
              "1  no_irrigation  \n",
              "2  no_irrigation  \n",
              "3  no_irrigation  \n",
              "4  no_irrigation  "
            ],
            "text/html": [
              "\n",
              "  <div id=\"df-e7470e0c-ad07-4bfd-b11a-efbbebb7bb43\">\n",
              "    <div class=\"colab-df-container\">\n",
              "      <div>\n",
              "<style scoped>\n",
              "    .dataframe tbody tr th:only-of-type {\n",
              "        vertical-align: middle;\n",
              "    }\n",
              "\n",
              "    .dataframe tbody tr th {\n",
              "        vertical-align: top;\n",
              "    }\n",
              "\n",
              "    .dataframe thead th {\n",
              "        text-align: right;\n",
              "    }\n",
              "</style>\n",
              "<table border=\"1\" class=\"dataframe\">\n",
              "  <thead>\n",
              "    <tr style=\"text-align: right;\">\n",
              "      <th></th>\n",
              "      <th>S No</th>\n",
              "      <th>pH</th>\n",
              "      <th>Temperature</th>\n",
              "      <th>Moisture</th>\n",
              "      <th>Time_log</th>\n",
              "      <th>Gadget Id</th>\n",
              "      <th>Location</th>\n",
              "      <th>target</th>\n",
              "    </tr>\n",
              "  </thead>\n",
              "  <tbody>\n",
              "    <tr>\n",
              "      <th>0</th>\n",
              "      <td>1.0</td>\n",
              "      <td>7.0</td>\n",
              "      <td>27.1</td>\n",
              "      <td>48.0</td>\n",
              "      <td>18-01-2022 10:26</td>\n",
              "      <td>NITSL001</td>\n",
              "      <td>Farm 1</td>\n",
              "      <td>no_irrigation</td>\n",
              "    </tr>\n",
              "    <tr>\n",
              "      <th>1</th>\n",
              "      <td>2.0</td>\n",
              "      <td>7.0</td>\n",
              "      <td>27.5</td>\n",
              "      <td>47.7</td>\n",
              "      <td>18-01-2022 10:26</td>\n",
              "      <td>NITSL001</td>\n",
              "      <td>Farm 1</td>\n",
              "      <td>no_irrigation</td>\n",
              "    </tr>\n",
              "    <tr>\n",
              "      <th>2</th>\n",
              "      <td>3.0</td>\n",
              "      <td>7.0</td>\n",
              "      <td>27.5</td>\n",
              "      <td>47.7</td>\n",
              "      <td>18-01-2022 10:26</td>\n",
              "      <td>NITSL001</td>\n",
              "      <td>Farm 1</td>\n",
              "      <td>no_irrigation</td>\n",
              "    </tr>\n",
              "    <tr>\n",
              "      <th>3</th>\n",
              "      <td>4.0</td>\n",
              "      <td>7.0</td>\n",
              "      <td>27.5</td>\n",
              "      <td>47.6</td>\n",
              "      <td>18-01-2022 10:26</td>\n",
              "      <td>NITSL001</td>\n",
              "      <td>Farm 1</td>\n",
              "      <td>no_irrigation</td>\n",
              "    </tr>\n",
              "    <tr>\n",
              "      <th>4</th>\n",
              "      <td>5.0</td>\n",
              "      <td>7.0</td>\n",
              "      <td>27.5</td>\n",
              "      <td>47.7</td>\n",
              "      <td>18-01-2022 10:26</td>\n",
              "      <td>NITSL001</td>\n",
              "      <td>Farm 1</td>\n",
              "      <td>no_irrigation</td>\n",
              "    </tr>\n",
              "  </tbody>\n",
              "</table>\n",
              "</div>\n",
              "      <button class=\"colab-df-convert\" onclick=\"convertToInteractive('df-e7470e0c-ad07-4bfd-b11a-efbbebb7bb43')\"\n",
              "              title=\"Convert this dataframe to an interactive table.\"\n",
              "              style=\"display:none;\">\n",
              "        \n",
              "  <svg xmlns=\"http://www.w3.org/2000/svg\" height=\"24px\"viewBox=\"0 0 24 24\"\n",
              "       width=\"24px\">\n",
              "    <path d=\"M0 0h24v24H0V0z\" fill=\"none\"/>\n",
              "    <path d=\"M18.56 5.44l.94 2.06.94-2.06 2.06-.94-2.06-.94-.94-2.06-.94 2.06-2.06.94zm-11 1L8.5 8.5l.94-2.06 2.06-.94-2.06-.94L8.5 2.5l-.94 2.06-2.06.94zm10 10l.94 2.06.94-2.06 2.06-.94-2.06-.94-.94-2.06-.94 2.06-2.06.94z\"/><path d=\"M17.41 7.96l-1.37-1.37c-.4-.4-.92-.59-1.43-.59-.52 0-1.04.2-1.43.59L10.3 9.45l-7.72 7.72c-.78.78-.78 2.05 0 2.83L4 21.41c.39.39.9.59 1.41.59.51 0 1.02-.2 1.41-.59l7.78-7.78 2.81-2.81c.8-.78.8-2.07 0-2.86zM5.41 20L4 18.59l7.72-7.72 1.47 1.35L5.41 20z\"/>\n",
              "  </svg>\n",
              "      </button>\n",
              "      \n",
              "  <style>\n",
              "    .colab-df-container {\n",
              "      display:flex;\n",
              "      flex-wrap:wrap;\n",
              "      gap: 12px;\n",
              "    }\n",
              "\n",
              "    .colab-df-convert {\n",
              "      background-color: #E8F0FE;\n",
              "      border: none;\n",
              "      border-radius: 50%;\n",
              "      cursor: pointer;\n",
              "      display: none;\n",
              "      fill: #1967D2;\n",
              "      height: 32px;\n",
              "      padding: 0 0 0 0;\n",
              "      width: 32px;\n",
              "    }\n",
              "\n",
              "    .colab-df-convert:hover {\n",
              "      background-color: #E2EBFA;\n",
              "      box-shadow: 0px 1px 2px rgba(60, 64, 67, 0.3), 0px 1px 3px 1px rgba(60, 64, 67, 0.15);\n",
              "      fill: #174EA6;\n",
              "    }\n",
              "\n",
              "    [theme=dark] .colab-df-convert {\n",
              "      background-color: #3B4455;\n",
              "      fill: #D2E3FC;\n",
              "    }\n",
              "\n",
              "    [theme=dark] .colab-df-convert:hover {\n",
              "      background-color: #434B5C;\n",
              "      box-shadow: 0px 1px 3px 1px rgba(0, 0, 0, 0.15);\n",
              "      filter: drop-shadow(0px 1px 2px rgba(0, 0, 0, 0.3));\n",
              "      fill: #FFFFFF;\n",
              "    }\n",
              "  </style>\n",
              "\n",
              "      <script>\n",
              "        const buttonEl =\n",
              "          document.querySelector('#df-e7470e0c-ad07-4bfd-b11a-efbbebb7bb43 button.colab-df-convert');\n",
              "        buttonEl.style.display =\n",
              "          google.colab.kernel.accessAllowed ? 'block' : 'none';\n",
              "\n",
              "        async function convertToInteractive(key) {\n",
              "          const element = document.querySelector('#df-e7470e0c-ad07-4bfd-b11a-efbbebb7bb43');\n",
              "          const dataTable =\n",
              "            await google.colab.kernel.invokeFunction('convertToInteractive',\n",
              "                                                     [key], {});\n",
              "          if (!dataTable) return;\n",
              "\n",
              "          const docLinkHtml = 'Like what you see? Visit the ' +\n",
              "            '<a target=\"_blank\" href=https://colab.research.google.com/notebooks/data_table.ipynb>data table notebook</a>'\n",
              "            + ' to learn more about interactive tables.';\n",
              "          element.innerHTML = '';\n",
              "          dataTable['output_type'] = 'display_data';\n",
              "          await google.colab.output.renderOutput(dataTable, element);\n",
              "          const docLink = document.createElement('div');\n",
              "          docLink.innerHTML = docLinkHtml;\n",
              "          element.appendChild(docLink);\n",
              "        }\n",
              "      </script>\n",
              "    </div>\n",
              "  </div>\n",
              "  "
            ]
          },
          "metadata": {},
          "execution_count": 52
        }
      ]
    },
    {
      "cell_type": "code",
      "source": [
        "df.columns"
      ],
      "metadata": {
        "colab": {
          "base_uri": "https://localhost:8080/"
        },
        "id": "NaRIm6oNkJkX",
        "outputId": "490a2218-325b-439f-d8cf-ebd0fd92be4e"
      },
      "execution_count": null,
      "outputs": [
        {
          "output_type": "execute_result",
          "data": {
            "text/plain": [
              "Index(['S No', 'pH', 'Temperature', 'Moisture', 'Time_log', 'Gadget Id',\n",
              "       'Location', 'target'],\n",
              "      dtype='object')"
            ]
          },
          "metadata": {},
          "execution_count": 53
        }
      ]
    },
    {
      "cell_type": "code",
      "source": [
        "soil_type=input(\"SANDY SOIL or CLAY SOIL: \")"
      ],
      "metadata": {
        "colab": {
          "base_uri": "https://localhost:8080/"
        },
        "id": "Vla66fARjagF",
        "outputId": "42e48b7c-ebf7-4268-9358-ab0cb1b60859"
      },
      "execution_count": null,
      "outputs": [
        {
          "name": "stdout",
          "output_type": "stream",
          "text": [
            "SANDY SOIL or CLAY SOIL: 1\n"
          ]
        }
      ]
    },
    {
      "cell_type": "code",
      "source": [
        "if soil_type == 1:\n",
        "  df['Moisture'] = df.Moisture <= 40\n",
        "  df = df.drop(df[df['Moisture'] == False].index, inplace=False)\n",
        "else:\n",
        "  df['Moisture'] = df.Moisture <= 35\n",
        "  df = df.drop(df[df['Moisture'] == False].index, inplace=False)\n",
        "print(df.head(10))"
      ],
      "metadata": {
        "colab": {
          "base_uri": "https://localhost:8080/"
        },
        "id": "nI_lvo4DjyzG",
        "outputId": "022d0de7-3b46-4ef0-f1e4-7cbfddedbc06"
      },
      "execution_count": null,
      "outputs": [
        {
          "output_type": "stream",
          "name": "stdout",
          "text": [
            "        S No   pH  Temperature  Moisture          Time_log Gadget Id Location  \\\n",
            "7985  7986.0  7.0         27.1      True  18-01-2022 22:27  NITSL001   Farm 1   \n",
            "7986  7987.0  7.0         27.1      True  18-01-2022 22:27  NITSL001   Farm 1   \n",
            "7988  7989.0  7.0         27.1      True  18-01-2022 22:27  NITSL001   Farm 1   \n",
            "7989  7990.0  7.0         27.1      True  18-01-2022 22:27  NITSL001   Farm 1   \n",
            "7990  7991.0  7.0         27.1      True  18-01-2022 22:27  NITSL001   Farm 1   \n",
            "7991  7992.0  7.0         27.1      True  18-01-2022 22:27  NITSL001   Farm 1   \n",
            "7992  7993.0  7.0         27.1      True  18-01-2022 22:27  NITSL001   Farm 1   \n",
            "7993  7994.0  7.0         27.1      True  18-01-2022 22:27  NITSL001   Farm 1   \n",
            "7994  7995.0  7.0         27.1      True  18-01-2022 22:27  NITSL001   Farm 1   \n",
            "7995  7996.0  7.0         27.1      True  18-01-2022 22:27  NITSL001   Farm 1   \n",
            "\n",
            "        target  \n",
            "7985  irrigate  \n",
            "7986  irrigate  \n",
            "7988  irrigate  \n",
            "7989  irrigate  \n",
            "7990  irrigate  \n",
            "7991  irrigate  \n",
            "7992  irrigate  \n",
            "7993  irrigate  \n",
            "7994  irrigate  \n",
            "7995  irrigate  \n"
          ]
        }
      ]
    },
    {
      "cell_type": "code",
      "source": [
        "df['target'].value_counts(normalize=True)"
      ],
      "metadata": {
        "colab": {
          "base_uri": "https://localhost:8080/"
        },
        "id": "WnAKQ_QKw1Lk",
        "outputId": "b3e01ce7-bfb9-4f89-9226-2581d4af952d"
      },
      "execution_count": null,
      "outputs": [
        {
          "output_type": "execute_result",
          "data": {
            "text/plain": [
              "irrigate    1.0\n",
              "Name: target, dtype: float64"
            ]
          },
          "metadata": {},
          "execution_count": 56
        }
      ]
    },
    {
      "cell_type": "code",
      "source": [
        "df1=df['target'].value_counts(normalize=True)\n",
        "if df1['irrigate'] == 1:\n",
        "  print(\"Good for irrigation\")\n",
        "elif df1['no_irrigation']>df1['irrigate']:\n",
        "  print(\"no irrigation is high\",df1['no_irrigation'])\n",
        "elif df1['no_irrigation']<df1['irrigate']:\n",
        "  print(\"irrigation is high\",df1['irrigate'])\n",
        "else:\n",
        "  print(\"Not a good time for irrigation\")"
      ],
      "metadata": {
        "id": "mlz6YJ0v3QpD",
        "colab": {
          "base_uri": "https://localhost:8080/"
        },
        "outputId": "df2f7285-d278-4d6e-e1f7-e1e1b78c3978"
      },
      "execution_count": null,
      "outputs": [
        {
          "output_type": "stream",
          "name": "stdout",
          "text": [
            "Good for irrigation\n"
          ]
        }
      ]
    },
    {
      "cell_type": "code",
      "source": [
        ""
      ],
      "metadata": {
        "id": "wao-7j1hY30u"
      },
      "execution_count": null,
      "outputs": []
    }
  ]
}